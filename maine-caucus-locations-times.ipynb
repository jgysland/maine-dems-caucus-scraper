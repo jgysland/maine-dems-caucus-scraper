{
 "cells": [
  {
   "cell_type": "code",
   "execution_count": 1,
   "metadata": {
    "collapsed": true
   },
   "outputs": [],
   "source": [
    "# pandas for dataframes, robobrowser for scraping\n",
    "# re (regular expressions) for pattern-matching (to find iframes that point at Google Docs)\n",
    "import pandas as pd\n",
    "from robobrowser import RoboBrowser\n",
    "import re"
   ]
  },
  {
   "cell_type": "code",
   "execution_count": 2,
   "metadata": {
    "collapsed": false
   },
   "outputs": [],
   "source": [
    "# start a robobrowser instance; navigate to the mainedems.org caucus listings\n",
    "browser = RoboBrowser()\n",
    "browser.open('http://www.mainedems.org/page/find-your-caucus')"
   ]
  },
  {
   "cell_type": "code",
   "execution_count": 3,
   "metadata": {
    "collapsed": true
   },
   "outputs": [],
   "source": [
    "# find all the HTML <a> tags inside <div id=\"body\"> in the navigable browser.parsed object\n",
    "counties = (\n",
    "    browser\n",
    "    .parsed\n",
    "    .find('div', id='body')\n",
    "    .find_all('a')\n",
    ")"
   ]
  },
  {
   "cell_type": "code",
   "execution_count": 4,
   "metadata": {
    "collapsed": false
   },
   "outputs": [],
   "source": [
    "# instantiate an empty list of tables\n",
    "tables = []\n",
    "\n",
    "# define the simple regex pattern for google docs -- \n",
    "# 'docs.google.org' must appear in the string\n",
    "gdoc_pattern = re.compile(r'.*docs\\.google\\.com.*')\n",
    "\n",
    "# iterate through the list of county <a> tags\n",
    "for county in counties:\n",
    "    \n",
    "    # have the browser open the <a> link\n",
    "    browser.follow_link(county)\n",
    "    \n",
    "    # find the <iframe> where the 'src' attribte matches gdoc_pattern\n",
    "    iframe = browser.find('iframe', src=gdoc_pattern)\n",
    "    \n",
    "    # if there is such an iframe\n",
    "    if iframe:\n",
    "        \n",
    "        # create a pandas dataframe by reading in its 'src' attribute URL\n",
    "        # skipping an empty row, setting the next row as the header\n",
    "        df = pd.read_html(iframe.attrs['src'],\n",
    "                          header=0, skiprows=1)[0]\n",
    "        \n",
    "        # append it to the tables list\n",
    "        tables.append(df)\n",
    "        \n",
    "    # go back to the main page\n",
    "    browser.back()"
   ]
  },
  {
   "cell_type": "code",
   "execution_count": 5,
   "metadata": {
    "collapsed": false,
    "scrolled": false
   },
   "outputs": [
    {
     "data": {
      "text/html": [
       "<div>\n",
       "<table border=\"1\" class=\"dataframe\">\n",
       "  <thead>\n",
       "    <tr style=\"text-align: right;\">\n",
       "      <th></th>\n",
       "      <th>1</th>\n",
       "      <th>CONVENER</th>\n",
       "      <th>DOORS</th>\n",
       "      <th>LOCATION</th>\n",
       "      <th>MUNICIPAL</th>\n",
       "      <th>MUNICIPALITY</th>\n",
       "      <th>START</th>\n",
       "      <th>TIME</th>\n",
       "    </tr>\n",
       "  </thead>\n",
       "  <tbody>\n",
       "    <tr>\n",
       "      <th>0</th>\n",
       "      <td>2</td>\n",
       "      <td>Ed Desgrosseilliers</td>\n",
       "      <td>NaN</td>\n",
       "      <td>Auburn Middle School</td>\n",
       "      <td>NaN</td>\n",
       "      <td>AUBURN</td>\n",
       "      <td>NaN</td>\n",
       "      <td>1:00PM</td>\n",
       "    </tr>\n",
       "    <tr>\n",
       "      <th>1</th>\n",
       "      <td>3</td>\n",
       "      <td>Sarah Hall</td>\n",
       "      <td>NaN</td>\n",
       "      <td>Durham Eureka Community Center</td>\n",
       "      <td>NaN</td>\n",
       "      <td>DURHAM</td>\n",
       "      <td>NaN</td>\n",
       "      <td>2:00PM</td>\n",
       "    </tr>\n",
       "    <tr>\n",
       "      <th>2</th>\n",
       "      <td>4</td>\n",
       "      <td>Matt Schlobohm and Kate Brennan</td>\n",
       "      <td>NaN</td>\n",
       "      <td>Greene Town Office</td>\n",
       "      <td>NaN</td>\n",
       "      <td>GREENE</td>\n",
       "      <td>NaN</td>\n",
       "      <td>3:00PM</td>\n",
       "    </tr>\n",
       "    <tr>\n",
       "      <th>3</th>\n",
       "      <td>5</td>\n",
       "      <td>Richard Fochtmann</td>\n",
       "      <td>NaN</td>\n",
       "      <td>Leeds Community Church</td>\n",
       "      <td>NaN</td>\n",
       "      <td>LEEDS</td>\n",
       "      <td>NaN</td>\n",
       "      <td>2:00PM</td>\n",
       "    </tr>\n",
       "    <tr>\n",
       "      <th>4</th>\n",
       "      <td>6</td>\n",
       "      <td>Richard Grandmaison</td>\n",
       "      <td>NaN</td>\n",
       "      <td>Lewiston High School</td>\n",
       "      <td>NaN</td>\n",
       "      <td>LEWISTON</td>\n",
       "      <td>NaN</td>\n",
       "      <td>1:00PM</td>\n",
       "    </tr>\n",
       "  </tbody>\n",
       "</table>\n",
       "</div>"
      ],
      "text/plain": [
       "   1                         CONVENER DOORS                        LOCATION  \\\n",
       "0  2              Ed Desgrosseilliers   NaN            Auburn Middle School   \n",
       "1  3                       Sarah Hall   NaN  Durham Eureka Community Center   \n",
       "2  4  Matt Schlobohm and Kate Brennan   NaN              Greene Town Office   \n",
       "3  5                Richard Fochtmann   NaN          Leeds Community Church   \n",
       "4  6              Richard Grandmaison   NaN            Lewiston High School   \n",
       "\n",
       "  MUNICIPAL MUNICIPALITY START    TIME  \n",
       "0       NaN       AUBURN   NaN  1:00PM  \n",
       "1       NaN       DURHAM   NaN  2:00PM  \n",
       "2       NaN       GREENE   NaN  3:00PM  \n",
       "3       NaN        LEEDS   NaN  2:00PM  \n",
       "4       NaN     LEWISTON   NaN  1:00PM  "
      ]
     },
     "execution_count": 5,
     "metadata": {},
     "output_type": "execute_result"
    }
   ],
   "source": [
    "# make a new pandas dataframe that's a concatentation of our list of dataframes\n",
    "df = pd.concat(tables, ignore_index=True)\n",
    "\n",
    "# display the first 5 rows\n",
    "df.head()"
   ]
  },
  {
   "cell_type": "code",
   "execution_count": 6,
   "metadata": {
    "collapsed": true
   },
   "outputs": [],
   "source": [
    "# iterate through the columns, dropping columns that are digits stored as strings\n",
    "# (that ugly/unnecessary '1' column)\n",
    "for col in df.columns:\n",
    "    if col.isdigit():\n",
    "        df.drop(col, axis=1, inplace=True)"
   ]
  },
  {
   "cell_type": "code",
   "execution_count": 7,
   "metadata": {
    "collapsed": true
   },
   "outputs": [],
   "source": [
    "# write the df to a csv, skipping the index (which is just an auto-incrementing number of no value to us)\n",
    "df.to_csv('maine-caucus-locations-times.csv', index=False)"
   ]
  },
  {
   "cell_type": "code",
   "execution_count": null,
   "metadata": {
    "collapsed": true
   },
   "outputs": [],
   "source": []
  }
 ],
 "metadata": {
  "kernelspec": {
   "display_name": "Python 2",
   "language": "python",
   "name": "python2"
  },
  "language_info": {
   "codemirror_mode": {
    "name": "ipython",
    "version": 2
   },
   "file_extension": ".py",
   "mimetype": "text/x-python",
   "name": "python",
   "nbconvert_exporter": "python",
   "pygments_lexer": "ipython2",
   "version": "2.7.10"
  }
 },
 "nbformat": 4,
 "nbformat_minor": 0
}
